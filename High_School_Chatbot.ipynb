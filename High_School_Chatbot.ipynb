{
  "nbformat": 4,
  "nbformat_minor": 0,
  "metadata": {
    "colab": {
      "provenance": [],
      "authorship_tag": "ABX9TyMd2VMNq+pL6AURovfsptOn",
      "include_colab_link": true
    },
    "kernelspec": {
      "name": "python3",
      "display_name": "Python 3"
    },
    "language_info": {
      "name": "python"
    }
  },
  "cells": [
    {
      "cell_type": "markdown",
      "metadata": {
        "id": "view-in-github",
        "colab_type": "text"
      },
      "source": [
        "<a href=\"https://colab.research.google.com/github/msuman-07/High-School-Info-Chatbot/blob/main/High_School_Chatbot.ipynb\" target=\"_parent\"><img src=\"https://colab.research.google.com/assets/colab-badge.svg\" alt=\"Open In Colab\"/></a>"
      ]
    },
    {
      "cell_type": "code",
      "execution_count": 30,
      "metadata": {
        "colab": {
          "base_uri": "https://localhost:8080/"
        },
        "id": "5qugCkip5HH8",
        "outputId": "fb7676e1-8bc1-4ab5-8582-c9de1f01ec2d"
      },
      "outputs": [
        {
          "output_type": "stream",
          "name": "stdout",
          "text": [
            "Requirement already satisfied: spaCy in /usr/local/lib/python3.11/dist-packages (3.8.5)\n",
            "Requirement already satisfied: spacy-legacy<3.1.0,>=3.0.11 in /usr/local/lib/python3.11/dist-packages (from spaCy) (3.0.12)\n",
            "Requirement already satisfied: spacy-loggers<2.0.0,>=1.0.0 in /usr/local/lib/python3.11/dist-packages (from spaCy) (1.0.5)\n",
            "Requirement already satisfied: murmurhash<1.1.0,>=0.28.0 in /usr/local/lib/python3.11/dist-packages (from spaCy) (1.0.12)\n",
            "Requirement already satisfied: cymem<2.1.0,>=2.0.2 in /usr/local/lib/python3.11/dist-packages (from spaCy) (2.0.11)\n",
            "Requirement already satisfied: preshed<3.1.0,>=3.0.2 in /usr/local/lib/python3.11/dist-packages (from spaCy) (3.0.9)\n",
            "Requirement already satisfied: thinc<8.4.0,>=8.3.4 in /usr/local/lib/python3.11/dist-packages (from spaCy) (8.3.4)\n",
            "Requirement already satisfied: wasabi<1.2.0,>=0.9.1 in /usr/local/lib/python3.11/dist-packages (from spaCy) (1.1.3)\n",
            "Requirement already satisfied: srsly<3.0.0,>=2.4.3 in /usr/local/lib/python3.11/dist-packages (from spaCy) (2.5.1)\n",
            "Requirement already satisfied: catalogue<2.1.0,>=2.0.6 in /usr/local/lib/python3.11/dist-packages (from spaCy) (2.0.10)\n",
            "Requirement already satisfied: weasel<0.5.0,>=0.1.0 in /usr/local/lib/python3.11/dist-packages (from spaCy) (0.4.1)\n",
            "Requirement already satisfied: typer<1.0.0,>=0.3.0 in /usr/local/lib/python3.11/dist-packages (from spaCy) (0.15.2)\n",
            "Requirement already satisfied: tqdm<5.0.0,>=4.38.0 in /usr/local/lib/python3.11/dist-packages (from spaCy) (4.67.1)\n",
            "Requirement already satisfied: numpy>=1.19.0 in /usr/local/lib/python3.11/dist-packages (from spaCy) (2.0.2)\n",
            "Requirement already satisfied: requests<3.0.0,>=2.13.0 in /usr/local/lib/python3.11/dist-packages (from spaCy) (2.32.3)\n",
            "Requirement already satisfied: pydantic!=1.8,!=1.8.1,<3.0.0,>=1.7.4 in /usr/local/lib/python3.11/dist-packages (from spaCy) (2.11.1)\n",
            "Requirement already satisfied: jinja2 in /usr/local/lib/python3.11/dist-packages (from spaCy) (3.1.6)\n",
            "Requirement already satisfied: setuptools in /usr/local/lib/python3.11/dist-packages (from spaCy) (75.2.0)\n",
            "Requirement already satisfied: packaging>=20.0 in /usr/local/lib/python3.11/dist-packages (from spaCy) (24.2)\n",
            "Requirement already satisfied: langcodes<4.0.0,>=3.2.0 in /usr/local/lib/python3.11/dist-packages (from spaCy) (3.5.0)\n",
            "Requirement already satisfied: language-data>=1.2 in /usr/local/lib/python3.11/dist-packages (from langcodes<4.0.0,>=3.2.0->spaCy) (1.3.0)\n",
            "Requirement already satisfied: annotated-types>=0.6.0 in /usr/local/lib/python3.11/dist-packages (from pydantic!=1.8,!=1.8.1,<3.0.0,>=1.7.4->spaCy) (0.7.0)\n",
            "Requirement already satisfied: pydantic-core==2.33.0 in /usr/local/lib/python3.11/dist-packages (from pydantic!=1.8,!=1.8.1,<3.0.0,>=1.7.4->spaCy) (2.33.0)\n",
            "Requirement already satisfied: typing-extensions>=4.12.2 in /usr/local/lib/python3.11/dist-packages (from pydantic!=1.8,!=1.8.1,<3.0.0,>=1.7.4->spaCy) (4.13.0)\n",
            "Requirement already satisfied: typing-inspection>=0.4.0 in /usr/local/lib/python3.11/dist-packages (from pydantic!=1.8,!=1.8.1,<3.0.0,>=1.7.4->spaCy) (0.4.0)\n",
            "Requirement already satisfied: charset-normalizer<4,>=2 in /usr/local/lib/python3.11/dist-packages (from requests<3.0.0,>=2.13.0->spaCy) (3.4.1)\n",
            "Requirement already satisfied: idna<4,>=2.5 in /usr/local/lib/python3.11/dist-packages (from requests<3.0.0,>=2.13.0->spaCy) (3.10)\n",
            "Requirement already satisfied: urllib3<3,>=1.21.1 in /usr/local/lib/python3.11/dist-packages (from requests<3.0.0,>=2.13.0->spaCy) (2.3.0)\n",
            "Requirement already satisfied: certifi>=2017.4.17 in /usr/local/lib/python3.11/dist-packages (from requests<3.0.0,>=2.13.0->spaCy) (2025.1.31)\n",
            "Requirement already satisfied: blis<1.3.0,>=1.2.0 in /usr/local/lib/python3.11/dist-packages (from thinc<8.4.0,>=8.3.4->spaCy) (1.2.1)\n",
            "Requirement already satisfied: confection<1.0.0,>=0.0.1 in /usr/local/lib/python3.11/dist-packages (from thinc<8.4.0,>=8.3.4->spaCy) (0.1.5)\n",
            "Requirement already satisfied: click>=8.0.0 in /usr/local/lib/python3.11/dist-packages (from typer<1.0.0,>=0.3.0->spaCy) (8.1.8)\n",
            "Requirement already satisfied: shellingham>=1.3.0 in /usr/local/lib/python3.11/dist-packages (from typer<1.0.0,>=0.3.0->spaCy) (1.5.4)\n",
            "Requirement already satisfied: rich>=10.11.0 in /usr/local/lib/python3.11/dist-packages (from typer<1.0.0,>=0.3.0->spaCy) (13.9.4)\n",
            "Requirement already satisfied: cloudpathlib<1.0.0,>=0.7.0 in /usr/local/lib/python3.11/dist-packages (from weasel<0.5.0,>=0.1.0->spaCy) (0.21.0)\n",
            "Requirement already satisfied: smart-open<8.0.0,>=5.2.1 in /usr/local/lib/python3.11/dist-packages (from weasel<0.5.0,>=0.1.0->spaCy) (7.1.0)\n",
            "Requirement already satisfied: MarkupSafe>=2.0 in /usr/local/lib/python3.11/dist-packages (from jinja2->spaCy) (3.0.2)\n",
            "Requirement already satisfied: marisa-trie>=1.1.0 in /usr/local/lib/python3.11/dist-packages (from language-data>=1.2->langcodes<4.0.0,>=3.2.0->spaCy) (1.2.1)\n",
            "Requirement already satisfied: markdown-it-py>=2.2.0 in /usr/local/lib/python3.11/dist-packages (from rich>=10.11.0->typer<1.0.0,>=0.3.0->spaCy) (3.0.0)\n",
            "Requirement already satisfied: pygments<3.0.0,>=2.13.0 in /usr/local/lib/python3.11/dist-packages (from rich>=10.11.0->typer<1.0.0,>=0.3.0->spaCy) (2.18.0)\n",
            "Requirement already satisfied: wrapt in /usr/local/lib/python3.11/dist-packages (from smart-open<8.0.0,>=5.2.1->weasel<0.5.0,>=0.1.0->spaCy) (1.17.2)\n",
            "Requirement already satisfied: mdurl~=0.1 in /usr/local/lib/python3.11/dist-packages (from markdown-it-py>=2.2.0->rich>=10.11.0->typer<1.0.0,>=0.3.0->spaCy) (0.1.2)\n"
          ]
        }
      ],
      "source": [
        "pip install spaCy"
      ]
    },
    {
      "cell_type": "code",
      "source": [
        "import spacy\n",
        "\n",
        "spacy.cli.download('en_core_web_sm')"
      ],
      "metadata": {
        "colab": {
          "base_uri": "https://localhost:8080/"
        },
        "id": "KJcoGmAm6glJ",
        "outputId": "80d607da-3f0c-4ff4-86bb-ae62040433b5"
      },
      "execution_count": 17,
      "outputs": [
        {
          "output_type": "stream",
          "name": "stdout",
          "text": [
            "\u001b[38;5;2m✔ Download and installation successful\u001b[0m\n",
            "You can now load the package via spacy.load('en_core_web_sm')\n",
            "\u001b[38;5;3m⚠ Restart to reload dependencies\u001b[0m\n",
            "If you are in a Jupyter or Colab notebook, you may need to restart Python in\n",
            "order to load all the package's dependencies. You can do this by selecting the\n",
            "'Restart kernel' or 'Restart runtime' option.\n"
          ]
        }
      ]
    },
    {
      "cell_type": "code",
      "source": [
        "# Load the spaCy language model\n",
        "nlp = spacy.load(\"en_core_web_sm\")"
      ],
      "metadata": {
        "id": "9-PNS9oU8jDF"
      },
      "execution_count": 22,
      "outputs": []
    },
    {
      "cell_type": "code",
      "source": [
        "# Predefined conversational responses\n",
        "simple_responses = {\n",
        "    \"hi\": \"Hello! I'm the High School Assistant Bot. How can I help you today?\",\n",
        "    \"hello\": \"Hi there! How can I assist you with school-related information?\",\n",
        "    \"how are you\": \"I'm just a chatbot, but I'm here and ready to help!\",\n",
        "    \"who are you\": \"I'm your school assistant chatbot, here to provide you with useful school information!\",\n",
        "    \"what can you do\": \"I can help you with school hours, contact info, event dates, the code of conduct, and more!\",\n",
        "    \"i am fine\": \"Glad to hear that! How can I help you today?\",\n",
        "}"
      ],
      "metadata": {
        "id": "TzTrdsKD6kur"
      },
      "execution_count": 26,
      "outputs": []
    },
    {
      "cell_type": "code",
      "source": [
        "# Intent-based response function\n",
        "def get_response(intent):\n",
        "    if intent == \"get_school_hours\":\n",
        "        return \"Our school hours are from 8 AM to 3 PM, Monday through Friday.\"\n",
        "    elif intent == \"get_contact_info\":\n",
        "        return \"You can contact us at (123) 456-7890 or email us at info@school.org.\"\n",
        "    elif intent == \"get_event_info\":\n",
        "        return \"Visit www.schoolwebsite.com/events for all upcoming school events.\"\n",
        "    elif intent == \"get_code_of_conduct\":\n",
        "        return \"You can view the code of conduct at www.schoolwebsite.com/codeofconduct\"\n",
        "    elif intent == \"get_principal_name\":\n",
        "        return \"The principal's name is Dr. Example Principal.\"\n",
        "    elif intent == \"get_holiday_list\":\n",
        "        return (\"The school will be closed for vacations/holidays on: \"\n",
        "                \"Nov 10–12, Dec 30–Jan 4, Jan 15, Feb 19, and Apr 6–10.\")\n",
        "    else:\n",
        "        return \"Sorry, I didn't understand that. Can you please rephrase?\""
      ],
      "metadata": {
        "id": "dWMyRXFs7CdX"
      },
      "execution_count": 27,
      "outputs": []
    },
    {
      "cell_type": "code",
      "source": [
        "# Intent detection using spaCy\n",
        "def get_intent(user_input):\n",
        "    doc = nlp(user_input)\n",
        "    for token in doc:\n",
        "        token_text = token.text.lower()\n",
        "        if token_text in (\"hours\", \"schedule\", \"time\", \"times\"):\n",
        "            return \"get_school_hours\"\n",
        "        elif token_text in (\"contact\", \"phone\", \"email\"):\n",
        "            return \"get_contact_info\"\n",
        "        elif token_text in (\"event\", \"events\", \"calendar\", \"dates\"):\n",
        "            return \"get_event_info\"\n",
        "        elif token_text in (\"code\", \"conduct\", \"rules\"):\n",
        "            return \"get_code_of_conduct\"\n",
        "        elif token_text == \"principal\":\n",
        "            return \"get_principal_name\"\n",
        "        elif token_text in (\"holidays\", \"vacations\", \"closings\"):\n",
        "            return \"get_holiday_list\"\n",
        "    return \"unknown\""
      ],
      "metadata": {
        "id": "kEEmu4f57F_f"
      },
      "execution_count": 28,
      "outputs": []
    },
    {
      "cell_type": "code",
      "source": [
        "# Chat loop for testing in Colab\n",
        "def chat():\n",
        "    while True:\n",
        "        user_input = input(\"You: \").lower().strip()\n",
        "        if user_input in (\"exit\", \"quit\", \"bye\"):\n",
        "            print(\"Chatbot: Goodbye! Have a great day.\")\n",
        "            break\n",
        "        # Check for simple responses first\n",
        "        if user_input in simple_responses:\n",
        "            print(\"Chatbot:\", simple_responses[user_input])\n",
        "        else:\n",
        "            # Use intent recognition\n",
        "            intent = get_intent(user_input)\n",
        "            response = get_response(intent)\n",
        "            print(\"Chatbot:\", response)\n",
        "\n",
        "# Start chatting\n",
        "chat()"
      ],
      "metadata": {
        "colab": {
          "base_uri": "https://localhost:8080/"
        },
        "id": "sOCNtLDV7IWZ",
        "outputId": "f248f9e3-11cd-44d6-8fb2-e4d1b372ee36"
      },
      "execution_count": 29,
      "outputs": [
        {
          "output_type": "stream",
          "name": "stdout",
          "text": [
            "You: hi\n",
            "Chatbot: Hello! I'm the High School Assistant Bot. How can I help you today?\n",
            "You: what can you do\n",
            "Chatbot: I can help you with school hours, contact info, event dates, the code of conduct, and more!\n",
            "You: school hours\n",
            "Chatbot: Our school hours are from 8 AM to 3 PM, Monday through Friday.\n",
            "You: contact info\n",
            "Chatbot: You can contact us at (123) 456-7890 or email us at info@school.org.\n",
            "You: event dates\n",
            "Chatbot: Visit www.schoolwebsite.com/events for all upcoming school events.\n",
            "You: the code of conduct\n",
            "Chatbot: You can view the code of conduct at www.schoolwebsite.com/codeofconduct\n",
            "You: bye\n",
            "Chatbot: Goodbye! Have a great day.\n"
          ]
        }
      ]
    }
  ]
}